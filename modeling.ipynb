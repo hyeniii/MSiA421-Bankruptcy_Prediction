{
 "cells": [
  {
   "cell_type": "code",
   "execution_count": 1,
   "metadata": {},
   "outputs": [],
   "source": [
    "import imb_modeling\n",
    "import pandas as pd\n",
    "import numpy as np\n",
    "import time\n",
    "\n",
    "from sklearn import svm, datasets\n",
    "from sklearn.tree import DecisionTreeClassifier\n",
    "from sklearn.ensemble import RandomForestClassifier\n",
    "from sklearn.ensemble import GradientBoostingClassifier\n",
    "from sklearn.metrics import make_scorer, accuracy_score, precision_score, recall_score, roc_auc_score\n",
    "\n",
    "from xgboost import XGBClassifier"
   ]
  },
  {
   "attachments": {},
   "cell_type": "markdown",
   "metadata": {},
   "source": [
    "Load dataset"
   ]
  },
  {
   "cell_type": "code",
   "execution_count": 2,
   "metadata": {},
   "outputs": [],
   "source": [
    "svd8 = pd.read_csv('data/svd_8.csv',index_col=0)\n",
    "svd_z5 = pd.read_csv(\"data/svd_z_5.csv\",index_col=0)\n",
    "svd_z9 = pd.read_csv(\"data/svd_z_9.csv\",index_col=0)"
   ]
  },
  {
   "cell_type": "code",
   "execution_count": 3,
   "metadata": {},
   "outputs": [
    {
     "data": {
      "text/plain": [
       "((6819, 9), (6819, 6), (6819, 10))"
      ]
     },
     "execution_count": 3,
     "metadata": {},
     "output_type": "execute_result"
    }
   ],
   "source": [
    "svd8.shape, svd_z5.shape, svd_z9.shape"
   ]
  },
  {
   "cell_type": "code",
   "execution_count": 4,
   "metadata": {},
   "outputs": [
    {
     "data": {
      "text/html": [
       "<div>\n",
       "<style scoped>\n",
       "    .dataframe tbody tr th:only-of-type {\n",
       "        vertical-align: middle;\n",
       "    }\n",
       "\n",
       "    .dataframe tbody tr th {\n",
       "        vertical-align: top;\n",
       "    }\n",
       "\n",
       "    .dataframe thead th {\n",
       "        text-align: right;\n",
       "    }\n",
       "</style>\n",
       "<table border=\"1\" class=\"dataframe\">\n",
       "  <thead>\n",
       "    <tr style=\"text-align: right;\">\n",
       "      <th></th>\n",
       "      <th>axis1</th>\n",
       "      <th>axis2</th>\n",
       "      <th>axis3</th>\n",
       "      <th>axis4</th>\n",
       "      <th>axis5</th>\n",
       "      <th>axis6</th>\n",
       "      <th>axis7</th>\n",
       "      <th>axis8</th>\n",
       "      <th>Bankrupt</th>\n",
       "    </tr>\n",
       "  </thead>\n",
       "  <tbody>\n",
       "    <tr>\n",
       "      <th>0</th>\n",
       "      <td>5.995932e+09</td>\n",
       "      <td>2.565263e+09</td>\n",
       "      <td>1.998551e+09</td>\n",
       "      <td>-1.556894e+09</td>\n",
       "      <td>-2.872628e+09</td>\n",
       "      <td>-1.131120e+09</td>\n",
       "      <td>-6.199528e+08</td>\n",
       "      <td>-3.087006e+09</td>\n",
       "      <td>1</td>\n",
       "    </tr>\n",
       "    <tr>\n",
       "      <th>1</th>\n",
       "      <td>1.046412e+10</td>\n",
       "      <td>-2.025294e+09</td>\n",
       "      <td>7.646973e+09</td>\n",
       "      <td>2.906900e+09</td>\n",
       "      <td>-1.599878e+09</td>\n",
       "      <td>-1.508080e+09</td>\n",
       "      <td>-2.054188e+08</td>\n",
       "      <td>-2.352258e+09</td>\n",
       "      <td>1</td>\n",
       "    </tr>\n",
       "    <tr>\n",
       "      <th>2</th>\n",
       "      <td>5.855594e+09</td>\n",
       "      <td>-2.207877e+09</td>\n",
       "      <td>-2.404231e+09</td>\n",
       "      <td>-1.810148e+09</td>\n",
       "      <td>-2.697782e+09</td>\n",
       "      <td>-1.499563e+09</td>\n",
       "      <td>1.818762e+09</td>\n",
       "      <td>-3.908349e+08</td>\n",
       "      <td>1</td>\n",
       "    </tr>\n",
       "    <tr>\n",
       "      <th>3</th>\n",
       "      <td>1.071762e+10</td>\n",
       "      <td>1.341745e+09</td>\n",
       "      <td>6.819712e+09</td>\n",
       "      <td>7.430153e+08</td>\n",
       "      <td>-4.009937e+09</td>\n",
       "      <td>2.112051e+09</td>\n",
       "      <td>7.794637e+09</td>\n",
       "      <td>4.507580e+09</td>\n",
       "      <td>1</td>\n",
       "    </tr>\n",
       "    <tr>\n",
       "      <th>4</th>\n",
       "      <td>9.244816e+09</td>\n",
       "      <td>7.462440e+09</td>\n",
       "      <td>-1.875104e+09</td>\n",
       "      <td>3.030693e+09</td>\n",
       "      <td>-2.042418e+09</td>\n",
       "      <td>-3.254255e+08</td>\n",
       "      <td>-3.596034e+08</td>\n",
       "      <td>2.267177e+09</td>\n",
       "      <td>1</td>\n",
       "    </tr>\n",
       "  </tbody>\n",
       "</table>\n",
       "</div>"
      ],
      "text/plain": [
       "          axis1         axis2         axis3         axis4         axis5  \\\n",
       "0  5.995932e+09  2.565263e+09  1.998551e+09 -1.556894e+09 -2.872628e+09   \n",
       "1  1.046412e+10 -2.025294e+09  7.646973e+09  2.906900e+09 -1.599878e+09   \n",
       "2  5.855594e+09 -2.207877e+09 -2.404231e+09 -1.810148e+09 -2.697782e+09   \n",
       "3  1.071762e+10  1.341745e+09  6.819712e+09  7.430153e+08 -4.009937e+09   \n",
       "4  9.244816e+09  7.462440e+09 -1.875104e+09  3.030693e+09 -2.042418e+09   \n",
       "\n",
       "          axis6         axis7         axis8  Bankrupt  \n",
       "0 -1.131120e+09 -6.199528e+08 -3.087006e+09         1  \n",
       "1 -1.508080e+09 -2.054188e+08 -2.352258e+09         1  \n",
       "2 -1.499563e+09  1.818762e+09 -3.908349e+08         1  \n",
       "3  2.112051e+09  7.794637e+09  4.507580e+09         1  \n",
       "4 -3.254255e+08 -3.596034e+08  2.267177e+09         1  "
      ]
     },
     "execution_count": 4,
     "metadata": {},
     "output_type": "execute_result"
    }
   ],
   "source": [
    "svd8.head()"
   ]
  },
  {
   "attachments": {},
   "cell_type": "markdown",
   "metadata": {},
   "source": [
    "Params"
   ]
  },
  {
   "cell_type": "code",
   "execution_count": 5,
   "metadata": {},
   "outputs": [],
   "source": [
    "# SVM parameter dictionary\n",
    "SVM_params = {'kernel':('linear', 'rbf'), \n",
    "              'C':[1, 10]}\n",
    "\n",
    "# Parameters for Decision treee\n",
    "dt_params = {'criterion':['gini','entropy'], \n",
    "              'max_depth' : range(1,10), \n",
    "              'min_samples_split' : range(1,10), \n",
    "              'min_samples_leaf': range(1,5)}\n",
    "\n",
    "# Parameters for Random Forest\n",
    "rf_params = {'n_estimators': [int(x) for x in np.linspace(start = 200, stop = 2000, num = 10)], # Number of trees in random forest\n",
    "               'max_features': ['auto', 'sqrt'], # Number of features to consider at every split\n",
    "               'max_depth': [int(x) for x in np.linspace(10, 110, num = 11)], # Maximum number of levels in tree\n",
    "               'min_samples_split': [2, 5, 10], # Minimum number of samples required to split a node\n",
    "               'min_samples_leaf': [1, 2, 4], # Minimum number of samples required at each leaf node\n",
    "               'bootstrap': [True, False] # Method of selecting samples for training each tree\n",
    "                }\n",
    "\n",
    "#Parameters for gradient boosting\n",
    "gb_params = {\n",
    "    \"loss\":[\"deviance\"],\n",
    "    \"learning_rate\": [0.01, 0.025, 0.05, 0.075, 0.1, 0.15, 0.2],\n",
    "    \"min_samples_split\": np.linspace(0.1, 0.5, 12),\n",
    "    \"min_samples_leaf\": np.linspace(0.1, 0.5, 12),\n",
    "    \"max_depth\":[3,5,8],\n",
    "    \"max_features\":[\"log2\",\"sqrt\"],\n",
    "    \"criterion\": [\"friedman_mse\",  \"mae\"],\n",
    "    \"subsample\":[0.5, 0.618, 0.8, 0.85, 0.9, 0.95, 1.0],\n",
    "    \"n_estimators\":[10]\n",
    "    }\n",
    "\n",
    "#Parameters for XGBoost\n",
    "xgb_estimator = XGBClassifier(\n",
    "    objective= 'binary:logistic',\n",
    "    nthread=4,\n",
    "    tree_method='gpu_hist',\n",
    "    seed=421\n",
    ")\n",
    "xgb_params = {\n",
    "    'max_depth': range(2, 10, 1),\n",
    "    'n_estimators': range(60, 220, 40),\n",
    "    \"min_child_weight\":[1, 3, 5],\n",
    "    'learning_rate': [0.1, 0.01, 0.05]\n",
    "}"
   ]
  },
  {
   "cell_type": "code",
   "execution_count": 6,
   "metadata": {},
   "outputs": [],
   "source": [
    "models = [(svm.SVC(),SVM_params),\n",
    "          (DecisionTreeClassifier(),dt_params),\n",
    "          (RandomForestClassifier(),rf_params),\n",
    "          (GradientBoostingClassifier(),gb_params),\n",
    "          (xgb_estimator,xgb_params)]"
   ]
  },
  {
   "cell_type": "code",
   "execution_count": 7,
   "metadata": {},
   "outputs": [],
   "source": [
    "scoring = {'accuracy': make_scorer(accuracy_score),\n",
    "           'precision': make_scorer(precision_score),\n",
    "           'recall':make_scorer(recall_score),\n",
    "           'roc_auc':make_scorer(roc_auc_score)}"
   ]
  },
  {
   "attachments": {},
   "cell_type": "markdown",
   "metadata": {},
   "source": [
    "Modeling"
   ]
  },
  {
   "cell_type": "code",
   "execution_count": 17,
   "metadata": {},
   "outputs": [
    {
     "name": "stdout",
     "output_type": "stream",
     "text": [
      "Training: XGBClassifier(base_score=None, booster=None, colsample_bylevel=None,\n",
      "              colsample_bynode=None, colsample_bytree=None, gamma=None,\n",
      "              gpu_id=None, importance_type='gain', interaction_constraints=None,\n",
      "              learning_rate=None, max_delta_step=None, max_depth=None,\n",
      "              min_child_weight=None, missing=nan, monotone_constraints=None,\n",
      "              n_estimators=100, n_jobs=None, nthread=4, num_parallel_tree=None,\n",
      "              random_state=None, reg_alpha=None, reg_lambda=None,\n",
      "              scale_pos_weight=None, seed=421, subsample=None,\n",
      "              tree_method='gpu_hist', validate_parameters=None, verbosity=None)\n",
      "fitting model...\n",
      "Fitting 30 folds for each of 288 candidates, totalling 8640 fits\n"
     ]
    }
   ],
   "source": [
    "res = []\n",
    "for model, param in models[4:3:-1]:\n",
    "    start = time.time()\n",
    "    print('Training: ' + str(model))\n",
    "    key_modified_params = {f\"model__{key}\": val for key, val in param.items()}\n",
    "    output = imb_modeling.imb_pipe_fit(model,key_modified_params,X=svd8.drop(columns='Bankrupt'),y=svd8['Bankrupt'])\n",
    "    res.append(output)\n",
    "    end = time.time()\n",
    "    print(output)\n",
    "    print('Time: ' + str(end-start))"
   ]
  },
  {
   "cell_type": "code",
   "execution_count": null,
   "metadata": {},
   "outputs": [],
   "source": []
  }
 ],
 "metadata": {
  "kernelspec": {
   "display_name": "Python 3.9.6 ('py3-ML')",
   "language": "python",
   "name": "python3"
  },
  "language_info": {
   "codemirror_mode": {
    "name": "ipython",
    "version": 3
   },
   "file_extension": ".py",
   "mimetype": "text/x-python",
   "name": "python",
   "nbconvert_exporter": "python",
   "pygments_lexer": "ipython3",
   "version": "3.9.6"
  },
  "orig_nbformat": 4,
  "vscode": {
   "interpreter": {
    "hash": "34068079b481e72e4c0f3771bb9bfee3927a11054452bda50a858c101c387283"
   }
  }
 },
 "nbformat": 4,
 "nbformat_minor": 2
}
